{
 "cells": [
  {
   "cell_type": "code",
   "execution_count": 4,
   "id": "725080f9",
   "metadata": {},
   "outputs": [
    {
     "name": "stdout",
     "output_type": "stream",
     "text": [
      "Setup Complete\n"
     ]
    }
   ],
   "source": [
    "#Versão 1.0\n",
    "#Para futuras versões: Adicionar mais questionamentos e traduzir os tipos de pokemon para portugues\n",
    "########################################\n",
    "import pandas as pd\n",
    "import matplotlib.pyplot as plt\n",
    "import seaborn as sns\n",
    "print(\"Setup Complete\")"
   ]
  },
  {
   "cell_type": "markdown",
   "id": "c85d09e5",
   "metadata": {},
   "source": [
    "# Análise de status dos pokemons"
   ]
  },
  {
   "cell_type": "markdown",
   "id": "c2773e51",
   "metadata": {},
   "source": [
    "## Objetivos\n",
    "\n",
    "Essa analise de dados busca compreender as seguintes questões:\n",
    "\n",
    "1. Relação do tipo do pokemon com a base de ataque e de super ataque.\n",
    "2. Pokemons lendarios por geração.\n",
    "3. Tipo de pokemon mais comum por geração.\n",
    "4. Melhores pokemons por status.\n",
    "5. Relação entre pokemons que possuem apenas um tipo e pokemons que possuem 2 tipos"
   ]
  },
  {
   "cell_type": "markdown",
   "id": "3fcbffc9",
   "metadata": {},
   "source": [
    "### 0. Preparando o dataframe"
   ]
  },
  {
   "cell_type": "code",
   "execution_count": 5,
   "id": "76c8d743",
   "metadata": {},
   "outputs": [
    {
     "data": {
      "text/html": [
       "<div>\n",
       "<style scoped>\n",
       "    .dataframe tbody tr th:only-of-type {\n",
       "        vertical-align: middle;\n",
       "    }\n",
       "\n",
       "    .dataframe tbody tr th {\n",
       "        vertical-align: top;\n",
       "    }\n",
       "\n",
       "    .dataframe thead th {\n",
       "        text-align: right;\n",
       "    }\n",
       "</style>\n",
       "<table border=\"1\" class=\"dataframe\">\n",
       "  <thead>\n",
       "    <tr style=\"text-align: right;\">\n",
       "      <th></th>\n",
       "      <th>#</th>\n",
       "      <th>Name</th>\n",
       "      <th>Type 1</th>\n",
       "      <th>Type 2</th>\n",
       "      <th>Total</th>\n",
       "      <th>HP</th>\n",
       "      <th>Attack</th>\n",
       "      <th>Defense</th>\n",
       "      <th>Sp. Atk</th>\n",
       "      <th>Sp. Def</th>\n",
       "      <th>Speed</th>\n",
       "      <th>Generation</th>\n",
       "      <th>Legendary</th>\n",
       "    </tr>\n",
       "  </thead>\n",
       "  <tbody>\n",
       "    <tr>\n",
       "      <th>0</th>\n",
       "      <td>1</td>\n",
       "      <td>Bulbasaur</td>\n",
       "      <td>Grass</td>\n",
       "      <td>Poison</td>\n",
       "      <td>318</td>\n",
       "      <td>45</td>\n",
       "      <td>49</td>\n",
       "      <td>49</td>\n",
       "      <td>65</td>\n",
       "      <td>65</td>\n",
       "      <td>45</td>\n",
       "      <td>1</td>\n",
       "      <td>False</td>\n",
       "    </tr>\n",
       "    <tr>\n",
       "      <th>1</th>\n",
       "      <td>2</td>\n",
       "      <td>Ivysaur</td>\n",
       "      <td>Grass</td>\n",
       "      <td>Poison</td>\n",
       "      <td>405</td>\n",
       "      <td>60</td>\n",
       "      <td>62</td>\n",
       "      <td>63</td>\n",
       "      <td>80</td>\n",
       "      <td>80</td>\n",
       "      <td>60</td>\n",
       "      <td>1</td>\n",
       "      <td>False</td>\n",
       "    </tr>\n",
       "    <tr>\n",
       "      <th>2</th>\n",
       "      <td>3</td>\n",
       "      <td>Venusaur</td>\n",
       "      <td>Grass</td>\n",
       "      <td>Poison</td>\n",
       "      <td>525</td>\n",
       "      <td>80</td>\n",
       "      <td>82</td>\n",
       "      <td>83</td>\n",
       "      <td>100</td>\n",
       "      <td>100</td>\n",
       "      <td>80</td>\n",
       "      <td>1</td>\n",
       "      <td>False</td>\n",
       "    </tr>\n",
       "    <tr>\n",
       "      <th>3</th>\n",
       "      <td>3</td>\n",
       "      <td>VenusaurMega Venusaur</td>\n",
       "      <td>Grass</td>\n",
       "      <td>Poison</td>\n",
       "      <td>625</td>\n",
       "      <td>80</td>\n",
       "      <td>100</td>\n",
       "      <td>123</td>\n",
       "      <td>122</td>\n",
       "      <td>120</td>\n",
       "      <td>80</td>\n",
       "      <td>1</td>\n",
       "      <td>False</td>\n",
       "    </tr>\n",
       "    <tr>\n",
       "      <th>4</th>\n",
       "      <td>4</td>\n",
       "      <td>Charmander</td>\n",
       "      <td>Fire</td>\n",
       "      <td>NaN</td>\n",
       "      <td>309</td>\n",
       "      <td>39</td>\n",
       "      <td>52</td>\n",
       "      <td>43</td>\n",
       "      <td>60</td>\n",
       "      <td>50</td>\n",
       "      <td>65</td>\n",
       "      <td>1</td>\n",
       "      <td>False</td>\n",
       "    </tr>\n",
       "  </tbody>\n",
       "</table>\n",
       "</div>"
      ],
      "text/plain": [
       "   #                   Name Type 1  Type 2  Total  HP  Attack  Defense  \\\n",
       "0  1              Bulbasaur  Grass  Poison    318  45      49       49   \n",
       "1  2                Ivysaur  Grass  Poison    405  60      62       63   \n",
       "2  3               Venusaur  Grass  Poison    525  80      82       83   \n",
       "3  3  VenusaurMega Venusaur  Grass  Poison    625  80     100      123   \n",
       "4  4             Charmander   Fire     NaN    309  39      52       43   \n",
       "\n",
       "   Sp. Atk  Sp. Def  Speed  Generation  Legendary  \n",
       "0       65       65     45           1      False  \n",
       "1       80       80     60           1      False  \n",
       "2      100      100     80           1      False  \n",
       "3      122      120     80           1      False  \n",
       "4       60       50     65           1      False  "
      ]
     },
     "execution_count": 5,
     "metadata": {},
     "output_type": "execute_result"
    }
   ],
   "source": [
    "# Leitura do dataframe e visualização das primeiras linhas\n",
    "pokemon_data = pd.read_csv('Dados/Pokemon.csv')\n",
    "pokemon_data.head()"
   ]
  },
  {
   "cell_type": "code",
   "execution_count": 6,
   "id": "4e4c72c0",
   "metadata": {},
   "outputs": [
    {
     "name": "stdout",
     "output_type": "stream",
     "text": [
      "Essa database que estamos analisando contem 800 linhas e 13 colunas\n"
     ]
    }
   ],
   "source": [
    "print('Essa database que estamos analisando contem {} linhas e {} colunas'.format(pokemon_data.shape[0], pokemon_data.shape[1]))"
   ]
  },
  {
   "cell_type": "code",
   "execution_count": 7,
   "id": "ff5a463d",
   "metadata": {},
   "outputs": [
    {
     "data": {
      "text/html": [
       "<div>\n",
       "<style scoped>\n",
       "    .dataframe tbody tr th:only-of-type {\n",
       "        vertical-align: middle;\n",
       "    }\n",
       "\n",
       "    .dataframe tbody tr th {\n",
       "        vertical-align: top;\n",
       "    }\n",
       "\n",
       "    .dataframe thead th {\n",
       "        text-align: right;\n",
       "    }\n",
       "</style>\n",
       "<table border=\"1\" class=\"dataframe\">\n",
       "  <thead>\n",
       "    <tr style=\"text-align: right;\">\n",
       "      <th></th>\n",
       "      <th>#</th>\n",
       "      <th>Nome</th>\n",
       "      <th>Tipo1</th>\n",
       "      <th>Tipo2</th>\n",
       "      <th>Total</th>\n",
       "      <th>HP</th>\n",
       "      <th>Ataque</th>\n",
       "      <th>Defesa</th>\n",
       "      <th>SuperAtaque</th>\n",
       "      <th>SuperDefesa</th>\n",
       "      <th>Velocidade</th>\n",
       "      <th>Geracao</th>\n",
       "      <th>Lendario</th>\n",
       "    </tr>\n",
       "  </thead>\n",
       "  <tbody>\n",
       "    <tr>\n",
       "      <th>0</th>\n",
       "      <td>1</td>\n",
       "      <td>Bulbasaur</td>\n",
       "      <td>Grass</td>\n",
       "      <td>Poison</td>\n",
       "      <td>318</td>\n",
       "      <td>45</td>\n",
       "      <td>49</td>\n",
       "      <td>49</td>\n",
       "      <td>65</td>\n",
       "      <td>65</td>\n",
       "      <td>45</td>\n",
       "      <td>1</td>\n",
       "      <td>False</td>\n",
       "    </tr>\n",
       "    <tr>\n",
       "      <th>1</th>\n",
       "      <td>2</td>\n",
       "      <td>Ivysaur</td>\n",
       "      <td>Grass</td>\n",
       "      <td>Poison</td>\n",
       "      <td>405</td>\n",
       "      <td>60</td>\n",
       "      <td>62</td>\n",
       "      <td>63</td>\n",
       "      <td>80</td>\n",
       "      <td>80</td>\n",
       "      <td>60</td>\n",
       "      <td>1</td>\n",
       "      <td>False</td>\n",
       "    </tr>\n",
       "    <tr>\n",
       "      <th>2</th>\n",
       "      <td>3</td>\n",
       "      <td>Venusaur</td>\n",
       "      <td>Grass</td>\n",
       "      <td>Poison</td>\n",
       "      <td>525</td>\n",
       "      <td>80</td>\n",
       "      <td>82</td>\n",
       "      <td>83</td>\n",
       "      <td>100</td>\n",
       "      <td>100</td>\n",
       "      <td>80</td>\n",
       "      <td>1</td>\n",
       "      <td>False</td>\n",
       "    </tr>\n",
       "    <tr>\n",
       "      <th>3</th>\n",
       "      <td>3</td>\n",
       "      <td>VenusaurMega Venusaur</td>\n",
       "      <td>Grass</td>\n",
       "      <td>Poison</td>\n",
       "      <td>625</td>\n",
       "      <td>80</td>\n",
       "      <td>100</td>\n",
       "      <td>123</td>\n",
       "      <td>122</td>\n",
       "      <td>120</td>\n",
       "      <td>80</td>\n",
       "      <td>1</td>\n",
       "      <td>False</td>\n",
       "    </tr>\n",
       "    <tr>\n",
       "      <th>4</th>\n",
       "      <td>4</td>\n",
       "      <td>Charmander</td>\n",
       "      <td>Fire</td>\n",
       "      <td>NaN</td>\n",
       "      <td>309</td>\n",
       "      <td>39</td>\n",
       "      <td>52</td>\n",
       "      <td>43</td>\n",
       "      <td>60</td>\n",
       "      <td>50</td>\n",
       "      <td>65</td>\n",
       "      <td>1</td>\n",
       "      <td>False</td>\n",
       "    </tr>\n",
       "  </tbody>\n",
       "</table>\n",
       "</div>"
      ],
      "text/plain": [
       "   #                   Nome  Tipo1   Tipo2  Total  HP  Ataque  Defesa  \\\n",
       "0  1              Bulbasaur  Grass  Poison    318  45      49      49   \n",
       "1  2                Ivysaur  Grass  Poison    405  60      62      63   \n",
       "2  3               Venusaur  Grass  Poison    525  80      82      83   \n",
       "3  3  VenusaurMega Venusaur  Grass  Poison    625  80     100     123   \n",
       "4  4             Charmander   Fire     NaN    309  39      52      43   \n",
       "\n",
       "   SuperAtaque  SuperDefesa  Velocidade  Geracao  Lendario  \n",
       "0           65           65          45        1     False  \n",
       "1           80           80          60        1     False  \n",
       "2          100          100          80        1     False  \n",
       "3          122          120          80        1     False  \n",
       "4           60           50          65        1     False  "
      ]
     },
     "execution_count": 7,
     "metadata": {},
     "output_type": "execute_result"
    }
   ],
   "source": [
    "# Primeiramente vamos alterar os nomes das colunas\n",
    "pokemon_data.columns = [\"#\",\"Nome\",\"Tipo1\",\"Tipo2\", \"Total\", \"HP\",\"Ataque\", \"Defesa\",\"SuperAtaque\", \"SuperDefesa\",\"Velocidade\",\"Geracao\",\"Lendario\"]\n",
    "pokemon_data.head()"
   ]
  },
  {
   "cell_type": "code",
   "execution_count": 38,
   "id": "728ce0d5",
   "metadata": {},
   "outputs": [],
   "source": [
    "# Além disso é preciso traduzir os tipos\n",
    "# Para tanto, vamos analisar o tipos de pokemon contidos nesse dataframe\n",
    "#pokemon_data['Tipo1'].unique()"
   ]
  },
  {
   "cell_type": "code",
   "execution_count": 9,
   "id": "1be1cb0a",
   "metadata": {},
   "outputs": [],
   "source": [
    "# Criação do dicionário com a tradução dos tipos de pokemon\n",
    "#traducao = {'Grass' : 'Grama', 'Fire':'Fogo','Water': 'Agua', 'Bug':'Inseto','Normal':'Normal','Poison':'Veneno',\n",
    "           # 'Electric':'Eletrico','Ground':'Terra','Fairy':'Fada','Fighting':'Lutador','Psychic':'Psiquico','Rock':'Pedra'\n",
    "           #'Ghost':'Fantasma','Ice':'Gelo','Dragon':'Dragão','Dark':'Noturno', 'Steel':'Aco','Flying':'Voador'}\n"
   ]
  },
  {
   "cell_type": "markdown",
   "id": "91488fb7",
   "metadata": {},
   "source": [
    "### 1. Relação do tipo do pokemon com a base de ataque e de super ataque"
   ]
  },
  {
   "cell_type": "code",
   "execution_count": 50,
   "id": "646d7858",
   "metadata": {},
   "outputs": [
    {
     "data": {
      "text/html": [
       "<div>\n",
       "<style scoped>\n",
       "    .dataframe tbody tr th:only-of-type {\n",
       "        vertical-align: middle;\n",
       "    }\n",
       "\n",
       "    .dataframe tbody tr th {\n",
       "        vertical-align: top;\n",
       "    }\n",
       "\n",
       "    .dataframe thead th {\n",
       "        text-align: right;\n",
       "    }\n",
       "</style>\n",
       "<table border=\"1\" class=\"dataframe\">\n",
       "  <thead>\n",
       "    <tr style=\"text-align: right;\">\n",
       "      <th></th>\n",
       "      <th>Tipo1</th>\n",
       "      <th>Ataque</th>\n",
       "    </tr>\n",
       "  </thead>\n",
       "  <tbody>\n",
       "    <tr>\n",
       "      <th>0</th>\n",
       "      <td>Dragon</td>\n",
       "      <td>112.125000</td>\n",
       "    </tr>\n",
       "    <tr>\n",
       "      <th>1</th>\n",
       "      <td>Fighting</td>\n",
       "      <td>96.777778</td>\n",
       "    </tr>\n",
       "    <tr>\n",
       "      <th>2</th>\n",
       "      <td>Ground</td>\n",
       "      <td>95.750000</td>\n",
       "    </tr>\n",
       "    <tr>\n",
       "      <th>3</th>\n",
       "      <td>Rock</td>\n",
       "      <td>92.863636</td>\n",
       "    </tr>\n",
       "    <tr>\n",
       "      <th>4</th>\n",
       "      <td>Steel</td>\n",
       "      <td>92.703704</td>\n",
       "    </tr>\n",
       "    <tr>\n",
       "      <th>5</th>\n",
       "      <td>Dark</td>\n",
       "      <td>88.387097</td>\n",
       "    </tr>\n",
       "    <tr>\n",
       "      <th>6</th>\n",
       "      <td>Fire</td>\n",
       "      <td>84.769231</td>\n",
       "    </tr>\n",
       "    <tr>\n",
       "      <th>7</th>\n",
       "      <td>Flying</td>\n",
       "      <td>78.750000</td>\n",
       "    </tr>\n",
       "    <tr>\n",
       "      <th>8</th>\n",
       "      <td>Poison</td>\n",
       "      <td>74.678571</td>\n",
       "    </tr>\n",
       "    <tr>\n",
       "      <th>9</th>\n",
       "      <td>Water</td>\n",
       "      <td>74.151786</td>\n",
       "    </tr>\n",
       "    <tr>\n",
       "      <th>10</th>\n",
       "      <td>Ghost</td>\n",
       "      <td>73.781250</td>\n",
       "    </tr>\n",
       "    <tr>\n",
       "      <th>11</th>\n",
       "      <td>Normal</td>\n",
       "      <td>73.469388</td>\n",
       "    </tr>\n",
       "    <tr>\n",
       "      <th>12</th>\n",
       "      <td>Grass</td>\n",
       "      <td>73.214286</td>\n",
       "    </tr>\n",
       "    <tr>\n",
       "      <th>13</th>\n",
       "      <td>Ice</td>\n",
       "      <td>72.750000</td>\n",
       "    </tr>\n",
       "    <tr>\n",
       "      <th>14</th>\n",
       "      <td>Psychic</td>\n",
       "      <td>71.456140</td>\n",
       "    </tr>\n",
       "    <tr>\n",
       "      <th>15</th>\n",
       "      <td>Bug</td>\n",
       "      <td>70.971014</td>\n",
       "    </tr>\n",
       "    <tr>\n",
       "      <th>16</th>\n",
       "      <td>Electric</td>\n",
       "      <td>69.090909</td>\n",
       "    </tr>\n",
       "    <tr>\n",
       "      <th>17</th>\n",
       "      <td>Fairy</td>\n",
       "      <td>61.529412</td>\n",
       "    </tr>\n",
       "  </tbody>\n",
       "</table>\n",
       "</div>"
      ],
      "text/plain": [
       "       Tipo1      Ataque\n",
       "0     Dragon  112.125000\n",
       "1   Fighting   96.777778\n",
       "2     Ground   95.750000\n",
       "3       Rock   92.863636\n",
       "4      Steel   92.703704\n",
       "5       Dark   88.387097\n",
       "6       Fire   84.769231\n",
       "7     Flying   78.750000\n",
       "8     Poison   74.678571\n",
       "9      Water   74.151786\n",
       "10     Ghost   73.781250\n",
       "11    Normal   73.469388\n",
       "12     Grass   73.214286\n",
       "13       Ice   72.750000\n",
       "14   Psychic   71.456140\n",
       "15       Bug   70.971014\n",
       "16  Electric   69.090909\n",
       "17     Fairy   61.529412"
      ]
     },
     "execution_count": 50,
     "metadata": {},
     "output_type": "execute_result"
    }
   ],
   "source": [
    "# Serie com a relação crescente de ataque baseada no tipo do pokemon\n",
    "ataque_medio_por_tipo_data = pokemon_data.groupby(\"Tipo1\").Ataque.mean().sort_values(ascending = False).to_frame().reset_index()\n",
    "ataque_medio_por_tipo_data"
   ]
  },
  {
   "cell_type": "code",
   "execution_count": 40,
   "id": "1159391d",
   "metadata": {},
   "outputs": [
    {
     "data": {
      "text/plain": [
       "<AxesSubplot:title={'center':'Ataque médio por tipo de pokemon'}, xlabel='Tipo1', ylabel='Ataque'>"
      ]
     },
     "execution_count": 40,
     "metadata": {},
     "output_type": "execute_result"
    },
    {
     "data": {
      "image/png": "[encoded data removed]",
      "text/plain": [
       "<Figure size 1440x432 with 1 Axes>"
      ]
     },
     "metadata": {
      "needs_background": "light"
     },
     "output_type": "display_data"
    }
   ],
   "source": [
    "# Selecionando o tamanho da imagem, título e finalmente plotando o gráfico\n",
    "plt.figure(figsize = (20, 6))\n",
    "plt.title('Ataque médio por tipo de pokemon')\n",
    "sns.barplot(x = ataque_medio_por_tipo_data['Tipo1'], y = ataque_medio_por_tipo_data['Ataque'], palette= \"icefire\")"
   ]
  },
  {
   "cell_type": "code",
   "execution_count": 48,
   "id": "66ca2728",
   "metadata": {},
   "outputs": [
    {
     "data": {
      "text/html": [
       "<div>\n",
       "<style scoped>\n",
       "    .dataframe tbody tr th:only-of-type {\n",
       "        vertical-align: middle;\n",
       "    }\n",
       "\n",
       "    .dataframe tbody tr th {\n",
       "        vertical-align: top;\n",
       "    }\n",
       "\n",
       "    .dataframe thead th {\n",
       "        text-align: right;\n",
       "    }\n",
       "</style>\n",
       "<table border=\"1\" class=\"dataframe\">\n",
       "  <thead>\n",
       "    <tr style=\"text-align: right;\">\n",
       "      <th></th>\n",
       "      <th>Tipo1</th>\n",
       "      <th>SuperAtaque</th>\n",
       "    </tr>\n",
       "  </thead>\n",
       "  <tbody>\n",
       "    <tr>\n",
       "      <th>0</th>\n",
       "      <td>Psychic</td>\n",
       "      <td>98.403509</td>\n",
       "    </tr>\n",
       "    <tr>\n",
       "      <th>1</th>\n",
       "      <td>Dragon</td>\n",
       "      <td>96.843750</td>\n",
       "    </tr>\n",
       "    <tr>\n",
       "      <th>2</th>\n",
       "      <td>Flying</td>\n",
       "      <td>94.250000</td>\n",
       "    </tr>\n",
       "    <tr>\n",
       "      <th>3</th>\n",
       "      <td>Electric</td>\n",
       "      <td>90.022727</td>\n",
       "    </tr>\n",
       "    <tr>\n",
       "      <th>4</th>\n",
       "      <td>Fire</td>\n",
       "      <td>88.980769</td>\n",
       "    </tr>\n",
       "    <tr>\n",
       "      <th>5</th>\n",
       "      <td>Ghost</td>\n",
       "      <td>79.343750</td>\n",
       "    </tr>\n",
       "    <tr>\n",
       "      <th>6</th>\n",
       "      <td>Fairy</td>\n",
       "      <td>78.529412</td>\n",
       "    </tr>\n",
       "    <tr>\n",
       "      <th>7</th>\n",
       "      <td>Ice</td>\n",
       "      <td>77.541667</td>\n",
       "    </tr>\n",
       "    <tr>\n",
       "      <th>8</th>\n",
       "      <td>Grass</td>\n",
       "      <td>77.500000</td>\n",
       "    </tr>\n",
       "    <tr>\n",
       "      <th>9</th>\n",
       "      <td>Water</td>\n",
       "      <td>74.812500</td>\n",
       "    </tr>\n",
       "    <tr>\n",
       "      <th>10</th>\n",
       "      <td>Dark</td>\n",
       "      <td>74.645161</td>\n",
       "    </tr>\n",
       "    <tr>\n",
       "      <th>11</th>\n",
       "      <td>Steel</td>\n",
       "      <td>67.518519</td>\n",
       "    </tr>\n",
       "    <tr>\n",
       "      <th>12</th>\n",
       "      <td>Rock</td>\n",
       "      <td>63.340909</td>\n",
       "    </tr>\n",
       "    <tr>\n",
       "      <th>13</th>\n",
       "      <td>Poison</td>\n",
       "      <td>60.428571</td>\n",
       "    </tr>\n",
       "    <tr>\n",
       "      <th>14</th>\n",
       "      <td>Ground</td>\n",
       "      <td>56.468750</td>\n",
       "    </tr>\n",
       "    <tr>\n",
       "      <th>15</th>\n",
       "      <td>Normal</td>\n",
       "      <td>55.816327</td>\n",
       "    </tr>\n",
       "    <tr>\n",
       "      <th>16</th>\n",
       "      <td>Bug</td>\n",
       "      <td>53.869565</td>\n",
       "    </tr>\n",
       "    <tr>\n",
       "      <th>17</th>\n",
       "      <td>Fighting</td>\n",
       "      <td>53.111111</td>\n",
       "    </tr>\n",
       "  </tbody>\n",
       "</table>\n",
       "</div>"
      ],
      "text/plain": [
       "       Tipo1  SuperAtaque\n",
       "0    Psychic    98.403509\n",
       "1     Dragon    96.843750\n",
       "2     Flying    94.250000\n",
       "3   Electric    90.022727\n",
       "4       Fire    88.980769\n",
       "5      Ghost    79.343750\n",
       "6      Fairy    78.529412\n",
       "7        Ice    77.541667\n",
       "8      Grass    77.500000\n",
       "9      Water    74.812500\n",
       "10      Dark    74.645161\n",
       "11     Steel    67.518519\n",
       "12      Rock    63.340909\n",
       "13    Poison    60.428571\n",
       "14    Ground    56.468750\n",
       "15    Normal    55.816327\n",
       "16       Bug    53.869565\n",
       "17  Fighting    53.111111"
      ]
     },
     "execution_count": 48,
     "metadata": {},
     "output_type": "execute_result"
    }
   ],
   "source": [
    "# Serie com a relação crescente de super ataque baseada no tipo do pokemon\n",
    "super_ataque_medio_por_tipo = pokemon_data.groupby(\"Tipo1\")['SuperAtaque'].mean().sort_values(ascending = False).to_frame().reset_index()\n",
    "super_ataque_medio_por_tipo"
   ]
  },
  {
   "cell_type": "code",
   "execution_count": 46,
   "id": "8c3677ea",
   "metadata": {},
   "outputs": [
    {
     "data": {
      "text/plain": [
       "<AxesSubplot:title={'center':'Super ataque médio por tipo de pokemon'}, xlabel='Tipo1', ylabel='SuperAtaque'>"
      ]
     },
     "execution_count": 46,
     "metadata": {},
     "output_type": "execute_result"
    },
    {
     "data": {
      "image/png": "[encoded data removed]",
      "text/plain": [
       "<Figure size 1440x432 with 1 Axes>"
      ]
     },
     "metadata": {
      "needs_background": "light"
     },
     "output_type": "display_data"
    }
   ],
   "source": [
    "# Selecionando o tamanho da imagem, título e finalmente plotando o gráfico\n",
    "plt.figure(figsize = (20, 6))\n",
    "plt.title('Super ataque médio por tipo de pokemon')\n",
    "sns.barplot(x = super_ataque_medio_por_tipo['Tipo1'], y = super_ataque_medio_por_tipo['SuperAtaque'], palette= \"icefire\")"
   ]
  },
  {
   "cell_type": "markdown",
   "id": "1810a019",
   "metadata": {},
   "source": [
    "### 2. Pokemons lendarios por geração."
   ]
  },
  {
   "cell_type": "code",
   "execution_count": 30,
   "id": "90fcb2ef",
   "metadata": {},
   "outputs": [
    {
     "data": {
      "text/plain": [
       "Geracao\n",
       "1     4\n",
       "2     5\n",
       "3    13\n",
       "4    13\n",
       "5    15\n",
       "6     7\n",
       "Name: Nome, dtype: int64"
      ]
     },
     "execution_count": 30,
     "metadata": {},
     "output_type": "execute_result"
    }
   ],
   "source": [
    "#Para essa análise precisamos retirar os pokemons que contem a string \"Primal\" e \"Mega\"\n",
    "\n",
    "pokemon_sem_mega_primal = pokemon_data.loc[~ pokemon_data['Nome'].str.contains('Mega') & ~ pokemon_data['Nome'].str.contains('Primal')]\n",
    "pokemon_lendario = pokemon_sem_mega_primal.loc[pokemon_sem_mega_primal['Lendario'] == True]\n",
    "pokemon_lendario.groupby('Geracao')['Nome'].count()"
   ]
  },
  {
   "cell_type": "code",
   "execution_count": 42,
   "id": "ca0eeccb",
   "metadata": {},
   "outputs": [
    {
     "data": {
      "text/plain": [
       "<AxesSubplot:title={'center':'Pokemons lendários por geracao'}, xlabel='Geracao', ylabel='count'>"
      ]
     },
     "execution_count": 42,
     "metadata": {},
     "output_type": "execute_result"
    },
    {
     "data": {
      "image/png": "[encoded data removed]",
      "text/plain": [
       "<Figure size 720x432 with 1 Axes>"
      ]
     },
     "metadata": {
      "needs_background": "light"
     },
     "output_type": "display_data"
    }
   ],
   "source": [
    "plt.figure(figsize = (10, 6))\n",
    "plt.title('Pokemons lendários por geracao')\n",
    "sns.countplot(x = pokemon_lendario['Geracao'],  palette = \"flare\")"
   ]
  },
  {
   "cell_type": "markdown",
   "id": "70a84e2f",
   "metadata": {},
   "source": [
    "### 3. Tipo de pokemon mais comum por geração"
   ]
  },
  {
   "cell_type": "code",
   "execution_count": 97,
   "id": "2b4fc388",
   "metadata": {
    "scrolled": true
   },
   "outputs": [
    {
     "data": {
      "text/html": [
       "<div>\n",
       "<style scoped>\n",
       "    .dataframe tbody tr th:only-of-type {\n",
       "        vertical-align: middle;\n",
       "    }\n",
       "\n",
       "    .dataframe tbody tr th {\n",
       "        vertical-align: top;\n",
       "    }\n",
       "\n",
       "    .dataframe thead th {\n",
       "        text-align: right;\n",
       "    }\n",
       "</style>\n",
       "<table border=\"1\" class=\"dataframe\">\n",
       "  <thead>\n",
       "    <tr style=\"text-align: right;\">\n",
       "      <th></th>\n",
       "      <th>#</th>\n",
       "      <th>Total</th>\n",
       "      <th>HP</th>\n",
       "      <th>Ataque</th>\n",
       "      <th>Defesa</th>\n",
       "      <th>SuperAtaque</th>\n",
       "      <th>SuperDefesa</th>\n",
       "      <th>Velocidade</th>\n",
       "      <th>Lendario</th>\n",
       "    </tr>\n",
       "    <tr>\n",
       "      <th>Geracao</th>\n",
       "      <th></th>\n",
       "      <th></th>\n",
       "      <th></th>\n",
       "      <th></th>\n",
       "      <th></th>\n",
       "      <th></th>\n",
       "      <th></th>\n",
       "      <th></th>\n",
       "      <th></th>\n",
       "    </tr>\n",
       "  </thead>\n",
       "  <tbody>\n",
       "    <tr>\n",
       "      <th>1</th>\n",
       "      <td>11476</td>\n",
       "      <td>61469</td>\n",
       "      <td>9696</td>\n",
       "      <td>10955</td>\n",
       "      <td>10302</td>\n",
       "      <td>10138</td>\n",
       "      <td>9969</td>\n",
       "      <td>10409</td>\n",
       "      <td>4.0</td>\n",
       "    </tr>\n",
       "    <tr>\n",
       "      <th>2</th>\n",
       "      <td>19996</td>\n",
       "      <td>40093</td>\n",
       "      <td>6978</td>\n",
       "      <td>6744</td>\n",
       "      <td>6849</td>\n",
       "      <td>6347</td>\n",
       "      <td>7114</td>\n",
       "      <td>6061</td>\n",
       "      <td>5.0</td>\n",
       "    </tr>\n",
       "    <tr>\n",
       "      <th>3</th>\n",
       "      <td>44223</td>\n",
       "      <td>56078</td>\n",
       "      <td>8965</td>\n",
       "      <td>10215</td>\n",
       "      <td>9536</td>\n",
       "      <td>9451</td>\n",
       "      <td>9213</td>\n",
       "      <td>8698</td>\n",
       "      <td>13.0</td>\n",
       "    </tr>\n",
       "    <tr>\n",
       "      <th>4</th>\n",
       "      <td>51280</td>\n",
       "      <td>52424</td>\n",
       "      <td>8442</td>\n",
       "      <td>9279</td>\n",
       "      <td>8957</td>\n",
       "      <td>8734</td>\n",
       "      <td>8859</td>\n",
       "      <td>8153</td>\n",
       "      <td>13.0</td>\n",
       "    </tr>\n",
       "    <tr>\n",
       "      <th>5</th>\n",
       "      <td>94224</td>\n",
       "      <td>71228</td>\n",
       "      <td>11742</td>\n",
       "      <td>13481</td>\n",
       "      <td>11808</td>\n",
       "      <td>11798</td>\n",
       "      <td>11216</td>\n",
       "      <td>11183</td>\n",
       "      <td>15.0</td>\n",
       "    </tr>\n",
       "    <tr>\n",
       "      <th>6</th>\n",
       "      <td>55698</td>\n",
       "      <td>35083</td>\n",
       "      <td>5548</td>\n",
       "      <td>6056</td>\n",
       "      <td>6178</td>\n",
       "      <td>5932</td>\n",
       "      <td>6031</td>\n",
       "      <td>5338</td>\n",
       "      <td>7.0</td>\n",
       "    </tr>\n",
       "  </tbody>\n",
       "</table>\n",
       "</div>"
      ],
      "text/plain": [
       "             #  Total     HP  Ataque  Defesa  SuperAtaque  SuperDefesa  \\\n",
       "Geracao                                                                  \n",
       "1        11476  61469   9696   10955   10302        10138         9969   \n",
       "2        19996  40093   6978    6744    6849         6347         7114   \n",
       "3        44223  56078   8965   10215    9536         9451         9213   \n",
       "4        51280  52424   8442    9279    8957         8734         8859   \n",
       "5        94224  71228  11742   13481   11808        11798        11216   \n",
       "6        55698  35083   5548    6056    6178         5932         6031   \n",
       "\n",
       "         Velocidade  Lendario  \n",
       "Geracao                        \n",
       "1             10409       4.0  \n",
       "2              6061       5.0  \n",
       "3              8698      13.0  \n",
       "4              8153      13.0  \n",
       "5             11183      15.0  \n",
       "6              5338       7.0  "
      ]
     },
     "execution_count": 97,
     "metadata": {},
     "output_type": "execute_result"
    }
   ],
   "source": [
    "\n",
    "#tipos1_por_geracao = pokemon_sem_mega_primal.groupby('Geracao')['Tipo1'].value_counts().to_frame()\n",
    "#tipos1_por_geracao.columns = ['Quantidade']\n",
    "#tipos1_por_geracao = tipos1_por_geracao.reset_index()\n",
    "#tipos1_por_geracao"
   ]
  },
  {
   "cell_type": "code",
   "execution_count": 102,
   "id": "2b3e3c12",
   "metadata": {},
   "outputs": [
    {
     "ename": "TypeError",
     "evalue": "unsupported operand type(s) for &: 'str' and 'str'",
     "output_type": "error",
     "traceback": [
      "\u001b[1;31m---------------------------------------------------------------------------\u001b[0m",
      "\u001b[1;31mTypeError\u001b[0m                                 Traceback (most recent call last)",
      "\u001b[1;32m<ipython-input-102-5d6fd789dd85>\u001b[0m in \u001b[0;36m<module>\u001b[1;34m\u001b[0m\n\u001b[0;32m      4\u001b[0m \u001b[0mtipos2_por_geracao\u001b[0m\u001b[1;33m\u001b[0m\u001b[1;33m\u001b[0m\u001b[0m\n\u001b[0;32m      5\u001b[0m \u001b[1;33m\u001b[0m\u001b[0m\n\u001b[1;32m----> 6\u001b[1;33m \u001b[0ma\u001b[0m \u001b[1;33m=\u001b[0m \u001b[0mtipos2_por_geracao\u001b[0m\u001b[1;33m.\u001b[0m\u001b[0miloc\u001b[0m\u001b[1;33m[\u001b[0m\u001b[1;34m'Geracao'\u001b[0m\u001b[1;33m==\u001b[0m \u001b[1;34m'1'\u001b[0m \u001b[1;33m&\u001b[0m \u001b[1;34m'Tipo2'\u001b[0m \u001b[1;33m==\u001b[0m \u001b[1;34m\"Flying\"\u001b[0m\u001b[1;33m]\u001b[0m\u001b[1;33m\u001b[0m\u001b[1;33m\u001b[0m\u001b[0m\n\u001b[0m\u001b[0;32m      7\u001b[0m \u001b[0ma\u001b[0m\u001b[1;33m\u001b[0m\u001b[1;33m\u001b[0m\u001b[0m\n",
      "\u001b[1;31mTypeError\u001b[0m: unsupported operand type(s) for &: 'str' and 'str'"
     ]
    }
   ],
   "source": [
    "tipos2_por_geracao = pokemon_sem_mega_primal.groupby('Geracao')['Tipo2'].value_counts().to_frame()\n",
    "tipos2_por_geracao.columns = ['Quantidade']\n",
    "tipos2_por_geracao = tipos2_por_geracao.reset_index()\n",
    "tipos2_por_geracao\n",
    "\n",
    "a = tipos2_por_geracao.iloc['Geracao' == '1' & 'Tipo2' == \"Flying\"]\n",
    "a"
   ]
  },
  {
   "cell_type": "code",
   "execution_count": 89,
   "id": "61bb35e3",
   "metadata": {},
   "outputs": [
    {
     "ename": "AttributeError",
     "evalue": "'DataFrame' object has no attribute 'compare'",
     "output_type": "error",
     "traceback": [
      "\u001b[1;31m---------------------------------------------------------------------------\u001b[0m",
      "\u001b[1;31mAttributeError\u001b[0m                            Traceback (most recent call last)",
      "\u001b[1;32m<ipython-input-89-896f936ca9d9>\u001b[0m in \u001b[0;36m<module>\u001b[1;34m\u001b[0m\n\u001b[0;32m      1\u001b[0m tipo = ['Grass', 'Fire','Water', 'Bug','Normal','Poison', 'Electric','Ground','Fairy',\n\u001b[0;32m      2\u001b[0m         'Fighting','Psychic','Rock','Ghost','Ice','Dragon','Dark', 'Steel', 'Flying']\n\u001b[1;32m----> 3\u001b[1;33m \u001b[0mtipos1_por_geracao\u001b[0m\u001b[1;33m.\u001b[0m\u001b[0mcompare\u001b[0m\u001b[1;33m(\u001b[0m\u001b[0mtipos1_por_geracao\u001b[0m\u001b[1;33m)\u001b[0m\u001b[1;33m\u001b[0m\u001b[1;33m\u001b[0m\u001b[0m\n\u001b[0m",
      "\u001b[1;32m~\\anaconda3\\envs\\alura_pandas\\lib\\site-packages\\pandas\\core\\generic.py\u001b[0m in \u001b[0;36m__getattr__\u001b[1;34m(self, name)\u001b[0m\n\u001b[0;32m   3612\u001b[0m             \u001b[1;32mif\u001b[0m \u001b[0mname\u001b[0m \u001b[1;32min\u001b[0m \u001b[0mself\u001b[0m\u001b[1;33m.\u001b[0m\u001b[0m_info_axis\u001b[0m\u001b[1;33m:\u001b[0m\u001b[1;33m\u001b[0m\u001b[1;33m\u001b[0m\u001b[0m\n\u001b[0;32m   3613\u001b[0m                 \u001b[1;32mreturn\u001b[0m \u001b[0mself\u001b[0m\u001b[1;33m[\u001b[0m\u001b[0mname\u001b[0m\u001b[1;33m]\u001b[0m\u001b[1;33m\u001b[0m\u001b[1;33m\u001b[0m\u001b[0m\n\u001b[1;32m-> 3614\u001b[1;33m             \u001b[1;32mreturn\u001b[0m \u001b[0mobject\u001b[0m\u001b[1;33m.\u001b[0m\u001b[0m__getattribute__\u001b[0m\u001b[1;33m(\u001b[0m\u001b[0mself\u001b[0m\u001b[1;33m,\u001b[0m \u001b[0mname\u001b[0m\u001b[1;33m)\u001b[0m\u001b[1;33m\u001b[0m\u001b[1;33m\u001b[0m\u001b[0m\n\u001b[0m\u001b[0;32m   3615\u001b[0m \u001b[1;33m\u001b[0m\u001b[0m\n\u001b[0;32m   3616\u001b[0m     \u001b[1;32mdef\u001b[0m \u001b[0m__setattr__\u001b[0m\u001b[1;33m(\u001b[0m\u001b[0mself\u001b[0m\u001b[1;33m,\u001b[0m \u001b[0mname\u001b[0m\u001b[1;33m,\u001b[0m \u001b[0mvalue\u001b[0m\u001b[1;33m)\u001b[0m\u001b[1;33m:\u001b[0m\u001b[1;33m\u001b[0m\u001b[1;33m\u001b[0m\u001b[0m\n",
      "\u001b[1;31mAttributeError\u001b[0m: 'DataFrame' object has no attribute 'compare'"
     ]
    }
   ],
   "source": [
    "\n",
    "tipos1_por_geracao.compare(tipos1_por_geracao)"
   ]
  },
  {
   "cell_type": "markdown",
   "id": "80123c91",
   "metadata": {},
   "source": [
    "### 4. Melhores pokemons por status"
   ]
  },
  {
   "cell_type": "code",
   "execution_count": 55,
   "id": "79360954",
   "metadata": {},
   "outputs": [
    {
     "data": {
      "image/png": "[encoded data removed]",
      "text/plain": [
       "<Figure size 504x360 with 1 Axes>"
      ]
     },
     "metadata": {
      "needs_background": "light"
     },
     "output_type": "display_data"
    },
    {
     "data": {
      "image/png": "[encoded data removed]",
      "text/plain": [
       "<Figure size 504x360 with 1 Axes>"
      ]
     },
     "metadata": {
      "needs_background": "light"
     },
     "output_type": "display_data"
    },
    {
     "data": {
      "image/png": "[encoded data removed]",
      "text/plain": [
       "<Figure size 504x360 with 1 Axes>"
      ]
     },
     "metadata": {
      "needs_background": "light"
     },
     "output_type": "display_data"
    },
    {
     "data": {
      "image/png": "[encoded data removed]",
      "text/plain": [
       "<Figure size 504x360 with 1 Axes>"
      ]
     },
     "metadata": {
      "needs_background": "light"
     },
     "output_type": "display_data"
    },
    {
     "data": {
      "image/png": "[encoded data removed]",
      "text/plain": [
       "<Figure size 504x360 with 1 Axes>"
      ]
     },
     "metadata": {
      "needs_background": "light"
     },
     "output_type": "display_data"
    },
    {
     "data": {
      "image/png": "[encoded data removed]",
      "text/plain": [
       "<Figure size 504x360 with 1 Axes>"
      ]
     },
     "metadata": {
      "needs_background": "light"
     },
     "output_type": "display_data"
    },
    {
     "data": {
      "image/png": "[encoded data removed]",
      "text/plain": [
       "<Figure size 504x360 with 1 Axes>"
      ]
     },
     "metadata": {
      "needs_background": "light"
     },
     "output_type": "display_data"
    }
   ],
   "source": [
    "#Definição da função que plota os 10 melhores pokemons de acordo com os status do dataframe inicial\n",
    "status = [\"HP\", \"Ataque\", \"Defesa\", \"SuperAtaque\", \"SuperDefesa\", \"Velocidade\", \"Total\"]\n",
    "def top_stats(variable):\n",
    "    stat_top10 = pokemon_data.sort_values(by=[variable], ascending = False).head(10)\n",
    "    fig, axs = plt.subplots(figsize=(7,5))\n",
    "    sns.barplot(data=stat_top10, x=variable, y=\"Nome\", palette = \"Paired\")\n",
    "    plt.title(\"Top 10 \"+variable+\" Pokemon\")\n",
    "    plt.show()\n",
    "\n",
    "for i in status:\n",
    "    top_stats(i)"
   ]
  },
  {
   "cell_type": "code",
   "execution_count": null,
   "id": "18bcd94c",
   "metadata": {},
   "outputs": [],
   "source": []
  }
 ],
 "metadata": {
  "kernelspec": {
   "display_name": "Python 3",
   "language": "python",
   "name": "python3"
  },
  "language_info": {
   "codemirror_mode": {
    "name": "ipython",
    "version": 3
   },
   "file_extension": ".py",
   "mimetype": "text/x-python",
   "name": "python",
   "nbconvert_exporter": "python",
   "pygments_lexer": "ipython3",
   "version": "3.6.13"
  }
 },
 "nbformat": 4,
 "nbformat_minor": 5
}
